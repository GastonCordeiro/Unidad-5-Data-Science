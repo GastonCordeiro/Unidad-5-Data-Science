{
 "cells": [
  {
   "cell_type": "markdown",
   "metadata": {},
   "source": [
    "1. Genere una submuestra de casos\n",
    "Utilice los últimos 4 dígitos de su rut como semilla pseudoaleatoria.\n",
    "Seleccione el 50% de los casos.\n",
    "Cada base generada debe contener los siguientes elementos:\n",
    "El índice de desarrollo humano ( undp_hdi )\n",
    "El nombre del país ( ccodealp )\n",
    "La región a la que pertenece ( ht_region )\n",
    "El PIB per capita. ( gle_cgdpc )\n",
    "El total de la población ( imf_pop )"
   ]
  },
  {
   "cell_type": "code",
   "execution_count": 1,
   "metadata": {},
   "outputs": [],
   "source": [
    "import pandas as pd\n",
    "import numpy as np\n",
    "import matplotlib.pyplot as plt\n",
    "df=pd.read_csv (\"qog_std_cs_jan18.csv\")"
   ]
  },
  {
   "cell_type": "code",
   "execution_count": 2,
   "metadata": {},
   "outputs": [],
   "source": [
    "df=df.sample(frac=.5, random_state=9594)"
   ]
  },
  {
   "cell_type": "markdown",
   "metadata": {},
   "source": [
    "Si su apellido está entre la A y la M, escoja las siguientes variables del módulo Educación:\n",
    "ffp_hf : Human Flight and Brain Drain\n",
    "wef_qes : Quality of the educational system\n",
    "wdi_expedu : Government expenditure on education, total (% of GDP)\n",
    "wdi_ners : School enrollment, secondary (% net)"
   ]
  },
  {
   "cell_type": "code",
   "execution_count": 3,
   "metadata": {},
   "outputs": [],
   "source": [
    "df=df[[\"undp_hdi\", \"ccodealp\", \"ht_region\", \"gle_cgdpc\", \"imf_pop\", \"ffp_hf\",\"wef_qes\", \"wdi_expedu\", \"wdi_ners\" ]]\n"
   ]
  },
  {
   "cell_type": "code",
   "execution_count": 4,
   "metadata": {},
   "outputs": [],
   "source": [
    "df['ht_region'] = df['ht_region'].replace([1, 2, 3, 4, 5, 6, 7, 8, 9, 10],\n",
    "['EastEurope', 'LatAm', 'NorthAfrica',\n",
    "'SubSaharian', 'WesternDem', 'EastAsia',\n",
    "'SouthEastAsia','SouthAsia','Pacific', 'Caribbean' ])"
   ]
  },
  {
   "cell_type": "code",
   "execution_count": 5,
   "metadata": {},
   "outputs": [
    {
     "data": {
      "text/plain": [
       "array(['SouthAsia', 'EastAsia', 'WesternDem', 'Caribbean', 'NorthAfrica',\n",
       "       'SubSaharian', 'SouthEastAsia', 'LatAm', 'Pacific', 'EastEurope'],\n",
       "      dtype=object)"
      ]
     },
     "execution_count": 5,
     "metadata": {},
     "output_type": "execute_result"
    }
   ],
   "source": [
    "df['ht_region'].unique()"
   ]
  },
  {
   "cell_type": "code",
   "execution_count": 6,
   "metadata": {},
   "outputs": [
    {
     "data": {
      "text/html": [
       "<div>\n",
       "<style scoped>\n",
       "    .dataframe tbody tr th:only-of-type {\n",
       "        vertical-align: middle;\n",
       "    }\n",
       "\n",
       "    .dataframe tbody tr th {\n",
       "        vertical-align: top;\n",
       "    }\n",
       "\n",
       "    .dataframe thead th {\n",
       "        text-align: right;\n",
       "    }\n",
       "</style>\n",
       "<table border=\"1\" class=\"dataframe\">\n",
       "  <thead>\n",
       "    <tr style=\"text-align: right;\">\n",
       "      <th></th>\n",
       "      <th>undp_hdi</th>\n",
       "      <th>gle_cgdpc</th>\n",
       "      <th>imf_pop</th>\n",
       "      <th>ffp_hf</th>\n",
       "      <th>wef_qes</th>\n",
       "      <th>wdi_expedu</th>\n",
       "      <th>wdi_ners</th>\n",
       "    </tr>\n",
       "  </thead>\n",
       "  <tbody>\n",
       "    <tr>\n",
       "      <th>count</th>\n",
       "      <td>94.000000</td>\n",
       "      <td>96.000000</td>\n",
       "      <td>76.000000</td>\n",
       "      <td>88.000000</td>\n",
       "      <td>80.000000</td>\n",
       "      <td>72.000000</td>\n",
       "      <td>66.000000</td>\n",
       "    </tr>\n",
       "    <tr>\n",
       "      <th>mean</th>\n",
       "      <td>0.698968</td>\n",
       "      <td>14262.284966</td>\n",
       "      <td>22.143184</td>\n",
       "      <td>5.446591</td>\n",
       "      <td>3.691946</td>\n",
       "      <td>4.498550</td>\n",
       "      <td>71.751428</td>\n",
       "    </tr>\n",
       "    <tr>\n",
       "      <th>std</th>\n",
       "      <td>0.155970</td>\n",
       "      <td>18350.756752</td>\n",
       "      <td>30.144518</td>\n",
       "      <td>1.965621</td>\n",
       "      <td>0.882104</td>\n",
       "      <td>1.497561</td>\n",
       "      <td>23.676362</td>\n",
       "    </tr>\n",
       "    <tr>\n",
       "      <th>min</th>\n",
       "      <td>0.347000</td>\n",
       "      <td>332.269990</td>\n",
       "      <td>0.090000</td>\n",
       "      <td>1.000000</td>\n",
       "      <td>1.896328</td>\n",
       "      <td>1.223930</td>\n",
       "      <td>13.600750</td>\n",
       "    </tr>\n",
       "    <tr>\n",
       "      <th>25%</th>\n",
       "      <td>0.555750</td>\n",
       "      <td>2209.989975</td>\n",
       "      <td>1.304000</td>\n",
       "      <td>3.675000</td>\n",
       "      <td>2.995966</td>\n",
       "      <td>3.471498</td>\n",
       "      <td>52.891964</td>\n",
       "    </tr>\n",
       "    <tr>\n",
       "      <th>50%</th>\n",
       "      <td>0.733500</td>\n",
       "      <td>6954.330050</td>\n",
       "      <td>9.609500</td>\n",
       "      <td>5.850000</td>\n",
       "      <td>3.630893</td>\n",
       "      <td>4.602315</td>\n",
       "      <td>79.278564</td>\n",
       "    </tr>\n",
       "    <tr>\n",
       "      <th>75%</th>\n",
       "      <td>0.832500</td>\n",
       "      <td>20450.759500</td>\n",
       "      <td>30.046000</td>\n",
       "      <td>7.000000</td>\n",
       "      <td>4.320096</td>\n",
       "      <td>5.493075</td>\n",
       "      <td>92.031210</td>\n",
       "    </tr>\n",
       "    <tr>\n",
       "      <th>max</th>\n",
       "      <td>0.937000</td>\n",
       "      <td>104049.440000</td>\n",
       "      <td>143.429001</td>\n",
       "      <td>9.200000</td>\n",
       "      <td>5.859115</td>\n",
       "      <td>7.849000</td>\n",
       "      <td>99.428749</td>\n",
       "    </tr>\n",
       "  </tbody>\n",
       "</table>\n",
       "</div>"
      ],
      "text/plain": [
       "        undp_hdi      gle_cgdpc     imf_pop     ffp_hf    wef_qes  wdi_expedu  \\\n",
       "count  94.000000      96.000000   76.000000  88.000000  80.000000   72.000000   \n",
       "mean    0.698968   14262.284966   22.143184   5.446591   3.691946    4.498550   \n",
       "std     0.155970   18350.756752   30.144518   1.965621   0.882104    1.497561   \n",
       "min     0.347000     332.269990    0.090000   1.000000   1.896328    1.223930   \n",
       "25%     0.555750    2209.989975    1.304000   3.675000   2.995966    3.471498   \n",
       "50%     0.733500    6954.330050    9.609500   5.850000   3.630893    4.602315   \n",
       "75%     0.832500   20450.759500   30.046000   7.000000   4.320096    5.493075   \n",
       "max     0.937000  104049.440000  143.429001   9.200000   5.859115    7.849000   \n",
       "\n",
       "        wdi_ners  \n",
       "count  66.000000  \n",
       "mean   71.751428  \n",
       "std    23.676362  \n",
       "min    13.600750  \n",
       "25%    52.891964  \n",
       "50%    79.278564  \n",
       "75%    92.031210  \n",
       "max    99.428749  "
      ]
     },
     "execution_count": 6,
     "metadata": {},
     "output_type": "execute_result"
    }
   ],
   "source": [
    "df.describe()\n",
    "    "
   ]
  },
  {
   "cell_type": "markdown",
   "metadata": {},
   "source": [
    "2. Genere una función que ingrese su objeto y devuelva:\n",
    "Por cada variable existente en su objeto, calcule las medidas descriptivas para los casos\n",
    "contínuos\n",
    "Para cada variable discreta, que calcule la frecuencia.\n",
    "Reporte las estadísticas descriptivas para gle_cgdpc , undp_hdi , imf_pop .\n",
    "Compare las estadísticas con algún compañero. ¿Ve alguna diferencia substancial en alguna\n",
    "de ellas?\n"
   ]
  },
  {
   "cell_type": "code",
   "execution_count": 7,
   "metadata": {},
   "outputs": [
    {
     "name": "stdout",
     "output_type": "stream",
     "text": [
      "float64\n",
      "count    94.000000\n",
      "mean      0.698968\n",
      "std       0.155970\n",
      "min       0.347000\n",
      "25%       0.555750\n",
      "50%       0.733500\n",
      "75%       0.832500\n",
      "max       0.937000\n",
      "Name: undp_hdi, dtype: float64\n",
      "\n",
      "object\n",
      "MMR    1\n",
      "RUS    1\n",
      "NLD    1\n",
      "MWI    1\n",
      "BHR    1\n",
      "GRC    1\n",
      "CPV    1\n",
      "RWA    1\n",
      "PRK    1\n",
      "ECU    1\n",
      "ZAF    1\n",
      "GAB    1\n",
      "AZE    1\n",
      "FJI    1\n",
      "CZE    1\n",
      "TZA    1\n",
      "KGZ    1\n",
      "HUN    1\n",
      "EST    1\n",
      "KNA    1\n",
      "LCA    1\n",
      "MRT    1\n",
      "SYC    1\n",
      "CHN    1\n",
      "MLT    1\n",
      "VCT    1\n",
      "SEN    1\n",
      "AFG    1\n",
      "NAM    1\n",
      "JOR    1\n",
      "      ..\n",
      "AND    1\n",
      "ISL    1\n",
      "SLE    1\n",
      "PRY    1\n",
      "SAU    1\n",
      "PHL    1\n",
      "SRB    1\n",
      "KHM    1\n",
      "ITA    1\n",
      "COM    1\n",
      "PNG    1\n",
      "LSO    1\n",
      "SLV    1\n",
      "GBR    1\n",
      "CAF    1\n",
      "VEN    1\n",
      "ESP    1\n",
      "KIR    1\n",
      "DMA    1\n",
      "BRB    1\n",
      "LUX    1\n",
      "PER    1\n",
      "SOM    1\n",
      "AUS    1\n",
      "LAO    1\n",
      "HND    1\n",
      "LBR    1\n",
      "BFA    1\n",
      "DEU    1\n",
      "MNG    1\n",
      "Name: ccodealp, Length: 97, dtype: int64\n",
      "\n",
      "object\n",
      "SubSaharian      25\n",
      "WesternDem       14\n",
      "EastEurope       13\n",
      "LatAm             8\n",
      "NorthAfrica       8\n",
      "Caribbean         8\n",
      "SouthEastAsia     7\n",
      "EastAsia          6\n",
      "SouthAsia         4\n",
      "Pacific           4\n",
      "Name: ht_region, dtype: int64\n",
      "\n",
      "float64\n",
      "count        96.000000\n",
      "mean      14262.284966\n",
      "std       18350.756752\n",
      "min         332.269990\n",
      "25%        2209.989975\n",
      "50%        6954.330050\n",
      "75%       20450.759500\n",
      "max      104049.440000\n",
      "Name: gle_cgdpc, dtype: float64\n",
      "\n",
      "float64\n",
      "count     76.000000\n",
      "mean      22.143184\n",
      "std       30.144518\n",
      "min        0.090000\n",
      "25%        1.304000\n",
      "50%        9.609500\n",
      "75%       30.046000\n",
      "max      143.429001\n",
      "Name: imf_pop, dtype: float64\n",
      "\n",
      "float64\n",
      "count    88.000000\n",
      "mean      5.446591\n",
      "std       1.965621\n",
      "min       1.000000\n",
      "25%       3.675000\n",
      "50%       5.850000\n",
      "75%       7.000000\n",
      "max       9.200000\n",
      "Name: ffp_hf, dtype: float64\n",
      "\n",
      "float64\n",
      "count    80.000000\n",
      "mean      3.691946\n",
      "std       0.882104\n",
      "min       1.896328\n",
      "25%       2.995966\n",
      "50%       3.630893\n",
      "75%       4.320096\n",
      "max       5.859115\n",
      "Name: wef_qes, dtype: float64\n",
      "\n",
      "float64\n",
      "count    72.000000\n",
      "mean      4.498550\n",
      "std       1.497561\n",
      "min       1.223930\n",
      "25%       3.471498\n",
      "50%       4.602315\n",
      "75%       5.493075\n",
      "max       7.849000\n",
      "Name: wdi_expedu, dtype: float64\n",
      "\n",
      "float64\n",
      "count    66.000000\n",
      "mean     71.751428\n",
      "std      23.676362\n",
      "min      13.600750\n",
      "25%      52.891964\n",
      "50%      79.278564\n",
      "75%      92.031210\n",
      "max      99.428749\n",
      "Name: wdi_ners, dtype: float64\n",
      "\n"
     ]
    }
   ],
   "source": [
    "def descripcion(df):\n",
    "    \n",
    "    for i in df.columns:\n",
    "        print(df[i].describe().dtype)\n",
    "        \n",
    "        if df[i].dtype== \"object\":\n",
    "            print (df[i].value_counts())\n",
    "        else:\n",
    "            print (df[i].describe())\n",
    "        print()\n",
    "     \n",
    "descripcion(df)    \n",
    "             "
   ]
  },
  {
   "cell_type": "code",
   "execution_count": null,
   "metadata": {},
   "outputs": [],
   "source": []
  },
  {
   "cell_type": "code",
   "execution_count": null,
   "metadata": {},
   "outputs": [],
   "source": []
  },
  {
   "cell_type": "code",
   "execution_count": 8,
   "metadata": {},
   "outputs": [
    {
     "name": "stdout",
     "output_type": "stream",
     "text": [
      "float64\n",
      "count    94.000000\n",
      "mean      0.698968\n",
      "std       0.155970\n",
      "min       0.347000\n",
      "25%       0.555750\n",
      "50%       0.733500\n",
      "75%       0.832500\n",
      "max       0.937000\n",
      "Name: undp_hdi, dtype: float64\n",
      "\n",
      "object\n",
      "MMR    1\n",
      "RUS    1\n",
      "NLD    1\n",
      "MWI    1\n",
      "BHR    1\n",
      "GRC    1\n",
      "CPV    1\n",
      "RWA    1\n",
      "PRK    1\n",
      "ECU    1\n",
      "ZAF    1\n",
      "GAB    1\n",
      "AZE    1\n",
      "FJI    1\n",
      "CZE    1\n",
      "TZA    1\n",
      "KGZ    1\n",
      "HUN    1\n",
      "EST    1\n",
      "KNA    1\n",
      "LCA    1\n",
      "MRT    1\n",
      "SYC    1\n",
      "CHN    1\n",
      "MLT    1\n",
      "VCT    1\n",
      "SEN    1\n",
      "AFG    1\n",
      "NAM    1\n",
      "JOR    1\n",
      "      ..\n",
      "AND    1\n",
      "ISL    1\n",
      "SLE    1\n",
      "PRY    1\n",
      "SAU    1\n",
      "PHL    1\n",
      "SRB    1\n",
      "KHM    1\n",
      "ITA    1\n",
      "COM    1\n",
      "PNG    1\n",
      "LSO    1\n",
      "SLV    1\n",
      "GBR    1\n",
      "CAF    1\n",
      "VEN    1\n",
      "ESP    1\n",
      "KIR    1\n",
      "DMA    1\n",
      "BRB    1\n",
      "LUX    1\n",
      "PER    1\n",
      "SOM    1\n",
      "AUS    1\n",
      "LAO    1\n",
      "HND    1\n",
      "LBR    1\n",
      "BFA    1\n",
      "DEU    1\n",
      "MNG    1\n",
      "Name: ccodealp, Length: 97, dtype: int64\n",
      "\n",
      "object\n",
      "SubSaharian      25\n",
      "WesternDem       14\n",
      "EastEurope       13\n",
      "LatAm             8\n",
      "NorthAfrica       8\n",
      "Caribbean         8\n",
      "SouthEastAsia     7\n",
      "EastAsia          6\n",
      "SouthAsia         4\n",
      "Pacific           4\n",
      "Name: ht_region, dtype: int64\n",
      "\n",
      "float64\n",
      "count        96.000000\n",
      "mean      14262.284966\n",
      "std       18350.756752\n",
      "min         332.269990\n",
      "25%        2209.989975\n",
      "50%        6954.330050\n",
      "75%       20450.759500\n",
      "max      104049.440000\n",
      "Name: gle_cgdpc, dtype: float64\n",
      "\n",
      "float64\n",
      "count     76.000000\n",
      "mean      22.143184\n",
      "std       30.144518\n",
      "min        0.090000\n",
      "25%        1.304000\n",
      "50%        9.609500\n",
      "75%       30.046000\n",
      "max      143.429001\n",
      "Name: imf_pop, dtype: float64\n",
      "\n",
      "float64\n",
      "count    88.000000\n",
      "mean      5.446591\n",
      "std       1.965621\n",
      "min       1.000000\n",
      "25%       3.675000\n",
      "50%       5.850000\n",
      "75%       7.000000\n",
      "max       9.200000\n",
      "Name: ffp_hf, dtype: float64\n",
      "\n",
      "float64\n",
      "count    80.000000\n",
      "mean      3.691946\n",
      "std       0.882104\n",
      "min       1.896328\n",
      "25%       2.995966\n",
      "50%       3.630893\n",
      "75%       4.320096\n",
      "max       5.859115\n",
      "Name: wef_qes, dtype: float64\n",
      "\n",
      "float64\n",
      "count    72.000000\n",
      "mean      4.498550\n",
      "std       1.497561\n",
      "min       1.223930\n",
      "25%       3.471498\n",
      "50%       4.602315\n",
      "75%       5.493075\n",
      "max       7.849000\n",
      "Name: wdi_expedu, dtype: float64\n",
      "\n",
      "float64\n",
      "count    66.000000\n",
      "mean     71.751428\n",
      "std      23.676362\n",
      "min      13.600750\n",
      "25%      52.891964\n",
      "50%      79.278564\n",
      "75%      92.031210\n",
      "max      99.428749\n",
      "Name: wdi_ners, dtype: float64\n",
      "\n"
     ]
    }
   ],
   "source": [
    "def descripcion(df, cols=[]):\n",
    "    \"\"\"\n",
    "    Sumary: esta funcion toma como argumento df e imprime describe si es continua o imprime value_counts si es discreta\n",
    "    Vars:\n",
    "         df:Pandas Dataframe\n",
    "         cols: default=df.columns. Esta variable indicara que columnas evaluar\n",
    "    Returns\n",
    "        None\n",
    "        \n",
    "    \"\"\"\n",
    "    if cols==[]:\n",
    "        cols=df.columns\n",
    "    \n",
    "    for i in cols:\n",
    "        print(df[i].describe().dtype)\n",
    "        \n",
    "        if df[i].dtype== \"object\":\n",
    "            print (df[i].value_counts())\n",
    "        else:\n",
    "            print (df[i].describe())\n",
    "        print()\n",
    "     \n",
    "descripcion(df)   "
   ]
  },
  {
   "cell_type": "code",
   "execution_count": 9,
   "metadata": {},
   "outputs": [
    {
     "name": "stdout",
     "output_type": "stream",
     "text": [
      "float64\n",
      "count        96.000000\n",
      "mean      14262.284966\n",
      "std       18350.756752\n",
      "min         332.269990\n",
      "25%        2209.989975\n",
      "50%        6954.330050\n",
      "75%       20450.759500\n",
      "max      104049.440000\n",
      "Name: gle_cgdpc, dtype: float64\n",
      "\n",
      "float64\n",
      "count    94.000000\n",
      "mean      0.698968\n",
      "std       0.155970\n",
      "min       0.347000\n",
      "25%       0.555750\n",
      "50%       0.733500\n",
      "75%       0.832500\n",
      "max       0.937000\n",
      "Name: undp_hdi, dtype: float64\n",
      "\n",
      "float64\n",
      "count     76.000000\n",
      "mean      22.143184\n",
      "std       30.144518\n",
      "min        0.090000\n",
      "25%        1.304000\n",
      "50%        9.609500\n",
      "75%       30.046000\n",
      "max      143.429001\n",
      "Name: imf_pop, dtype: float64\n",
      "\n"
     ]
    }
   ],
   "source": [
    "descripcion(df,cols=[\"gle_cgdpc\", \"undp_hdi\", \"imf_pop\"])"
   ]
  },
  {
   "cell_type": "markdown",
   "metadata": {},
   "source": [
    "3. Genere una función que liste las observaciones perdidas\n",
    "de una variable\n",
    "La función debe contener los siguientes argumentos:\n",
    "dataframe : La función debe ingresar un objeto DataFrame.\n",
    "var : Variable a inspeccionar.\n",
    "print_list : Opción para imprimir la lista de observaciones perdidas en la variable.\n",
    "Debe ser False por defecto.\n",
    "La función debe retornar la cantidad de casos perdidos y el porcentaje correspondiente.\n",
    "Cuando print_list = True , debe retornar la lista de casos.\n",
    "Analice todas las variables y sus casos perdidos.\n",
    "Para las 3 variables con un mayor porcentaje de casos perdidos, solicite la lista de países con\n",
    "ausencia de datos"
   ]
  },
  {
   "cell_type": "code",
   "execution_count": 10,
   "metadata": {},
   "outputs": [],
   "source": [
    "def valores_perdidos(df, var, print_list = False):\n",
    "    cant_perd = df[var].isnull().sum()\n",
    "    print(var)\n",
    "    print(\"La cantidad de valores perdidos es: \", cant_perd)\n",
    "    print(\"El porcentaje de valores perdidos es:{}\".format(round(cant_perd/len(df), 4)*100))\n",
    "    \n",
    "    if print_list:\n",
    "        print(\"\\nLista valores perdidos\")\n",
    "        print(df[df[var].isnull()][\"ccodealp\"])\n",
    "    \n",
    "    "
   ]
  },
  {
   "cell_type": "code",
   "execution_count": 11,
   "metadata": {},
   "outputs": [
    {
     "name": "stdout",
     "output_type": "stream",
     "text": [
      "imf_pop\n",
      "La cantidad de valores perdidos es:  21\n",
      "El porcentaje de valores perdidos es:21.65\n"
     ]
    }
   ],
   "source": [
    "valores_perdidos(df, \"imf_pop\")"
   ]
  },
  {
   "cell_type": "code",
   "execution_count": 12,
   "metadata": {},
   "outputs": [
    {
     "name": "stdout",
     "output_type": "stream",
     "text": [
      "imf_pop\n",
      "La cantidad de valores perdidos es:  21\n",
      "El porcentaje de valores perdidos es:21.65\n",
      "\n",
      "Lista valores perdidos\n",
      "192    YEM\n",
      "49     DMA\n",
      "36     CHN\n",
      "32     CAF\n",
      "97     LBR\n",
      "99     LIE\n",
      "3      AND\n",
      "65     GHA\n",
      "73     HND\n",
      "61     GAB\n",
      "190    VEN\n",
      "118    NAM\n",
      "95     LSO\n",
      "159    SOM\n",
      "151    SEN\n",
      "69     GTM\n",
      "52     SLV\n",
      "145    KNA\n",
      "163    SSD\n",
      "89     PRK\n",
      "175    ARE\n",
      "Name: ccodealp, dtype: object\n"
     ]
    }
   ],
   "source": [
    "valores_perdidos(df, \"imf_pop\", True)"
   ]
  },
  {
   "cell_type": "code",
   "execution_count": 13,
   "metadata": {},
   "outputs": [
    {
     "name": "stdout",
     "output_type": "stream",
     "text": [
      "undp_hdi\n",
      "La cantidad de valores perdidos es:  3\n",
      "El porcentaje de valores perdidos es:3.09\n",
      "\n",
      "ccodealp\n",
      "La cantidad de valores perdidos es:  0\n",
      "El porcentaje de valores perdidos es:0.0\n",
      "\n",
      "ht_region\n",
      "La cantidad de valores perdidos es:  0\n",
      "El porcentaje de valores perdidos es:0.0\n",
      "\n",
      "gle_cgdpc\n",
      "La cantidad de valores perdidos es:  1\n",
      "El porcentaje de valores perdidos es:1.03\n",
      "\n",
      "imf_pop\n",
      "La cantidad de valores perdidos es:  21\n",
      "El porcentaje de valores perdidos es:21.65\n",
      "\n",
      "ffp_hf\n",
      "La cantidad de valores perdidos es:  9\n",
      "El porcentaje de valores perdidos es:9.28\n",
      "\n",
      "wef_qes\n",
      "La cantidad de valores perdidos es:  17\n",
      "El porcentaje de valores perdidos es:17.53\n",
      "\n",
      "wdi_expedu\n",
      "La cantidad de valores perdidos es:  25\n",
      "El porcentaje de valores perdidos es:25.77\n",
      "\n",
      "wdi_ners\n",
      "La cantidad de valores perdidos es:  31\n",
      "El porcentaje de valores perdidos es:31.96\n",
      "\n"
     ]
    }
   ],
   "source": [
    "for i in df.columns:\n",
    "    valores_perdidos(df, i)\n",
    "    print()"
   ]
  },
  {
   "cell_type": "code",
   "execution_count": 14,
   "metadata": {},
   "outputs": [
    {
     "name": "stdout",
     "output_type": "stream",
     "text": [
      "wdi_ners\n",
      "La cantidad de valores perdidos es:  31\n",
      "El porcentaje de valores perdidos es:31.96\n",
      "\n",
      "Lista valores perdidos\n",
      "37     TWN\n",
      "64     DEU\n",
      "4      AGO\n",
      "36     CHN\n",
      "66     KIR\n",
      "154    SLE\n",
      "97     LBR\n",
      "112    MNG\n",
      "114    MNE\n",
      "185    TZA\n",
      "13     ARM\n",
      "133    PNG\n",
      "18     BIH\n",
      "143    RUS\n",
      "3      AND\n",
      "160    ZAF\n",
      "157    VNM\n",
      "61     GAB\n",
      "147    VCT\n",
      "118    NAM\n",
      "22     SLB\n",
      "159    SOM\n",
      "28     KHM\n",
      "6      AZE\n",
      "151    SEN\n",
      "46     CZE\n",
      "2      DZA\n",
      "163    SSD\n",
      "83     CIV\n",
      "175    ARE\n",
      "88     KEN\n",
      "Name: ccodealp, dtype: object\n",
      "wdi_expedu\n",
      "La cantidad de valores perdidos es:  25\n",
      "El porcentaje de valores perdidos es:25.77\n",
      "\n",
      "Lista valores perdidos\n",
      "37     TWN\n",
      "192    YEM\n",
      "49     DMA\n",
      "4      AGO\n",
      "36     CHN\n",
      "25     MMR\n",
      "66     KIR\n",
      "165    SUR\n",
      "114    MNE\n",
      "133    PNG\n",
      "136    PHL\n",
      "18     BIH\n",
      "189    UZB\n",
      "67     GRC\n",
      "87     JOR\n",
      "190    VEN\n",
      "147    VCT\n",
      "118    NAM\n",
      "22     SLB\n",
      "95     LSO\n",
      "159    SOM\n",
      "2      DZA\n",
      "89     PRK\n",
      "150    SAU\n",
      "175    ARE\n",
      "Name: ccodealp, dtype: object\n",
      "imf_pop\n",
      "La cantidad de valores perdidos es:  21\n",
      "El porcentaje de valores perdidos es:21.65\n",
      "\n",
      "Lista valores perdidos\n",
      "192    YEM\n",
      "49     DMA\n",
      "36     CHN\n",
      "32     CAF\n",
      "97     LBR\n",
      "99     LIE\n",
      "3      AND\n",
      "65     GHA\n",
      "73     HND\n",
      "61     GAB\n",
      "190    VEN\n",
      "118    NAM\n",
      "95     LSO\n",
      "159    SOM\n",
      "151    SEN\n",
      "69     GTM\n",
      "52     SLV\n",
      "145    KNA\n",
      "163    SSD\n",
      "89     PRK\n",
      "175    ARE\n",
      "Name: ccodealp, dtype: object\n"
     ]
    }
   ],
   "source": [
    "for i in [\"wdi_ners\", \"wdi_expedu\", \"imf_pop\"]:\n",
    "     valores_perdidos(df, i, True)"
   ]
  },
  {
   "cell_type": "markdown",
   "metadata": {},
   "source": [
    "4. Grafique los histogramas\n",
    "Genere una función que grafique un histograma en conjunto y señale las medias.\n",
    "La función debe incluír los siguientes argumentos:\n",
    "dataframe : La base de datos donde se encuentran los datos específicos.\n",
    "var : La variable a graficar.\n",
    "sample_mean : Booleano. Si es verdadero, debe generar una recta vertical indicando la\n",
    "media de la variable en la selección muestral. Por defecto debe ser False .\n",
    "true_mean : Booleano. Si es verdadero, debe generar una recta vertical indicando la\n",
    "media de variable en la base de datos completa.\n",
    "Implemente las funciones para las 4 variables seleccionadas según su grupo.\n",
    "¿En qué variables la media de la submuestra es mayor a la de la muestra completa?"
   ]
  },
  {
   "cell_type": "code",
   "execution_count": 15,
   "metadata": {},
   "outputs": [],
   "source": [
    "df_total=pd.read_csv(\"qog_std_cs_jan18.csv\")\n",
    "\n",
    "def histograma(df,df_total,var,true_mean,sample_mean=False):\n",
    "    print (\"Columna:\",var)\n",
    "    _,_=plt.subplots(figsize=(15,7))\n",
    "    plt.hist(df[var].dropna())\n",
    "    \n",
    "    if (true_mean):\n",
    "        media_total=np.mean(df_total[var])\n",
    "        print (\"La media del total de datos es: \",media_total)\n",
    "        plt.axvline(media_total, color=\"violet\", linestyle=\"--\",lw=2)\n",
    "    if (sample_mean):\n",
    "        media_muestra= np.mean(df[var])\n",
    "        print (\"La media de la muestra es: \",media_muestra) \n",
    "        plt.axvline(media_muestra, color=\"green\", linestyle=\"--\",lw=2)\n",
    "    plt.show()    \n",
    "        \n",
    "       "
   ]
  },
  {
   "cell_type": "code",
   "execution_count": 16,
   "metadata": {},
   "outputs": [
    {
     "name": "stdout",
     "output_type": "stream",
     "text": [
      "Columna: ffp_hf\n",
      "La media del total de datos es:  5.535028254244961\n",
      "La media de la muestra es:  5.446590913967653\n"
     ]
    },
    {
     "data": {
      "image/png": "[encoded data removed]",
      "text/plain": [
       "<Figure size 1080x504 with 1 Axes>"
      ]
     },
     "metadata": {
      "needs_background": "light"
     },
     "output_type": "display_data"
    }
   ],
   "source": [
    "histograma(df,df_total,\"ffp_hf\",True,True)"
   ]
  },
  {
   "cell_type": "code",
   "execution_count": 17,
   "metadata": {},
   "outputs": [
    {
     "name": "stdout",
     "output_type": "stream",
     "text": [
      "Columna: ffp_hf\n",
      "La media del total de datos es:  5.535028254244961\n",
      "La media de la muestra es:  5.446590913967653\n"
     ]
    },
    {
     "data": {
      "image/png": "[encoded data removed]",
      "text/plain": [
       "<Figure size 1080x504 with 1 Axes>"
      ]
     },
     "metadata": {
      "needs_background": "light"
     },
     "output_type": "display_data"
    },
    {
     "name": "stdout",
     "output_type": "stream",
     "text": [
      "Columna: wef_qes\n",
      "La media del total de datos es:  3.6939207275708514\n",
      "La media de la muestra es:  3.6919463336467744\n"
     ]
    },
    {
     "data": {
      "image/png": "[encoded data removed]",
      "text/plain": [
       "<Figure size 1080x504 with 1 Axes>"
      ]
     },
     "metadata": {
      "needs_background": "light"
     },
     "output_type": "display_data"
    },
    {
     "name": "stdout",
     "output_type": "stream",
     "text": [
      "Columna: wdi_expedu\n",
      "La media del total de datos es:  4.58041136264801\n",
      "La media de la muestra es:  4.498549592163828\n"
     ]
    },
    {
     "data": {
      "image/png": "[encoded data removed]",
      "text/plain": [
       "<Figure size 1080x504 with 1 Axes>"
      ]
     },
     "metadata": {
      "needs_background": "light"
     },
     "output_type": "display_data"
    },
    {
     "name": "stdout",
     "output_type": "stream",
     "text": [
      "Columna: wdi_ners\n",
      "La media del total de datos es:  72.72342694074588\n",
      "La media de la muestra es:  71.75142834403299\n"
     ]
    },
    {
     "data": {
      "image/png": "[encoded data removed]",
      "text/plain": [
       "<Figure size 1080x504 with 1 Axes>"
      ]
     },
     "metadata": {
      "needs_background": "light"
     },
     "output_type": "display_data"
    }
   ],
   "source": [
    "for i in [\"ffp_hf\",\"wef_qes\",\"wdi_expedu\",\"wdi_ners\"]:\n",
    "    histograma(df,df_total,i,True,True)"
   ]
  },
  {
   "cell_type": "markdown",
   "metadata": {},
   "source": [
    "5. Genere una función que devuelva un dotplot\n",
    "La función debe contener los siguientes argumentos como argumentos:\n",
    "dataframe : La tabla de datos donde buscar las variables.\n",
    "plot_var : La variable a analizar y extraer las medias.\n",
    "plot_by : La variable agrupadora.\n",
    "global_stat : Booleano. Si es True debe graficar la media global de la variable. Por\n",
    "defecto debe ser False .\n",
    "statistic: Debe presentar dos opciones. mean para la media y median para la mediana.\n",
    "Por defecto debe ser mean .\n",
    "Implemente la función en las 3 variables con una menor cantidad de datos perdidos."
   ]
  },
  {
   "cell_type": "code",
   "execution_count": 31,
   "metadata": {},
   "outputs": [],
   "source": [
    "def dotplot(df,plot_var,plot_by,global_stat=False,statistic=\"mean\"):\n",
    "    group_mean=df.groupby(plot_by)[plot_var].mean()\n",
    "    _,_=plt.subplots(figsize=(15,7))\n",
    "    print (plt.plot(group_mean.values,group_mean.index, \"o\"))\n",
    "    \n",
    "    if global_stat==True:\n",
    "        print (plt.axvline(df[plot_var].dropna().mean(), color=\"violet\", linestyle=\"--\", lw=2.0))\n",
    "\n",
    "    plt.show()    \n",
    "        \n",
    " "
   ]
  },
  {
   "cell_type": "code",
   "execution_count": 32,
   "metadata": {},
   "outputs": [
    {
     "name": "stdout",
     "output_type": "stream",
     "text": [
      "[<matplotlib.lines.Line2D object at 0x00000166343034E0>]\n",
      "Line2D(_line1)\n"
     ]
    },
    {
     "data": {
      "image/png": "[encoded data removed]",
      "text/plain": [
       "<Figure size 1080x504 with 1 Axes>"
      ]
     },
     "metadata": {
      "needs_background": "light"
     },
     "output_type": "display_data"
    }
   ],
   "source": [
    "\n",
    "dotplot(df,\"undp_hdi\",\"ht_region\",True,True)"
   ]
  },
  {
   "cell_type": "code",
   "execution_count": 28,
   "metadata": {},
   "outputs": [],
   "source": [
    "df.to_csv(\"subsample_GC_demo.csv\")"
   ]
  },
  {
   "cell_type": "code",
   "execution_count": null,
   "metadata": {},
   "outputs": [],
   "source": [
    "       \n"
   ]
  }
 ],
 "metadata": {
  "kernelspec": {
   "display_name": "Python 3",
   "language": "python",
   "name": "python3"
  },
  "language_info": {
   "codemirror_mode": {
    "name": "ipython",
    "version": 3
   },
   "file_extension": ".py",
   "mimetype": "text/x-python",
   "name": "python",
   "nbconvert_exporter": "python",
   "pygments_lexer": "ipython3",
   "version": "3.7.1"
  }
 },
 "nbformat": 4,
 "nbformat_minor": 2
}
